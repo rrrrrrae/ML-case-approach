{
 "cells": [
  {
   "cell_type": "markdown",
   "metadata": {},
   "source": [
    "# Installing Python and Turi Create"
   ]
  },
  {
   "cell_type": "markdown",
   "metadata": {},
   "source": [
    "Please follow the installation instructions [here](https://www.coursera.org/learn/ml-foundations/supplement/5HQGl/reading-getting-started-with-python-jupyter-notebook-turi-create) before getting started:\n",
    "\n",
    "\n",
    "## So far, we have\n",
    "* Installed Python\n",
    "* Started Jupyter Notebook"
   ]
  },
  {
   "cell_type": "code",
   "execution_count": null,
   "metadata": {},
   "outputs": [
    {
     "name": "stderr",
     "output_type": "stream",
     "text": [
      "WARNING: pip is being invoked by an old script wrapper. This will fail in a future version of pip.\n",
      "Please see https://github.com/pypa/pip/issues/5599 for advice on fixing the underlying issue.\n",
      "To avoid this problem you can invoke Python with '-m pip' instead of running pip directly.\n"
     ]
    },
    {
     "name": "stdout",
     "output_type": "stream",
     "text": [
      "Collecting turicreate\n",
      "  Downloading turicreate-6.4.1-cp38-cp38-macosx_10_12_intel.macosx_10_12_x86_64.macosx_10_13_intel.macosx_10_13_x86_64.macosx_10_14_intel.macosx_10_14_x86_64.whl (33.2 MB)\n",
      "Requirement already satisfied: scipy>=1.1.0 in /Users/ruihao/opt/anaconda3/lib/python3.8/site-packages (from turicreate) (1.5.2)\n",
      "Requirement already satisfied: requests>=2.9.1 in /Users/ruihao/opt/anaconda3/lib/python3.8/site-packages (from turicreate) (2.24.0)\n",
      "Collecting resampy==0.2.1\n",
      "  Downloading resampy-0.2.1.tar.gz (322 kB)\n",
      "Requirement already satisfied: pandas>=0.23.2 in /Users/ruihao/opt/anaconda3/lib/python3.8/site-packages (from turicreate) (1.1.3)\n",
      "Collecting tensorflow>=2.0.0\n",
      "  Downloading tensorflow-2.4.1-cp38-cp38-macosx_10_11_x86_64.whl (173.9 MB)\n",
      "Requirement already satisfied: six>=1.10.0 in /Users/ruihao/opt/anaconda3/lib/python3.8/site-packages (from turicreate) (1.15.0)\n",
      "Collecting prettytable==0.7.2\n",
      "  Downloading prettytable-0.7.2.tar.bz2 (21 kB)\n",
      "Requirement already satisfied: pillow>=5.2.0 in /Users/ruihao/opt/anaconda3/lib/python3.8/site-packages (from turicreate) (8.0.1)\n",
      "Requirement already satisfied: decorator>=4.0.9 in /Users/ruihao/opt/anaconda3/lib/python3.8/site-packages (from turicreate) (4.4.2)\n",
      "Requirement already satisfied: numpy in /Users/ruihao/opt/anaconda3/lib/python3.8/site-packages (from turicreate) (1.19.2)\n",
      "Collecting coremltools==4.0b3\n",
      "  Downloading coremltools-4.0b3-cp38-none-macosx_10_16_intel.whl (3.4 MB)\n",
      "Requirement already satisfied: chardet<4,>=3.0.2 in /Users/ruihao/opt/anaconda3/lib/python3.8/site-packages (from requests>=2.9.1->turicreate) (3.0.4)\n",
      "Requirement already satisfied: certifi>=2017.4.17 in /Users/ruihao/opt/anaconda3/lib/python3.8/site-packages (from requests>=2.9.1->turicreate) (2020.6.20)\n",
      "Requirement already satisfied: urllib3!=1.25.0,!=1.25.1,<1.26,>=1.21.1 in /Users/ruihao/opt/anaconda3/lib/python3.8/site-packages (from requests>=2.9.1->turicreate) (1.25.11)\n",
      "Requirement already satisfied: idna<3,>=2.5 in /Users/ruihao/opt/anaconda3/lib/python3.8/site-packages (from requests>=2.9.1->turicreate) (2.10)\n",
      "Requirement already satisfied: numba>=0.32 in /Users/ruihao/opt/anaconda3/lib/python3.8/site-packages (from resampy==0.2.1->turicreate) (0.51.2)\n",
      "Requirement already satisfied: pytz>=2017.2 in /Users/ruihao/opt/anaconda3/lib/python3.8/site-packages (from pandas>=0.23.2->turicreate) (2020.1)\n",
      "Requirement already satisfied: python-dateutil>=2.7.3 in /Users/ruihao/opt/anaconda3/lib/python3.8/site-packages (from pandas>=0.23.2->turicreate) (2.8.1)\n",
      "Collecting wrapt~=1.12.1\n",
      "  Downloading wrapt-1.12.1.tar.gz (27 kB)\n",
      "Requirement already satisfied: typing-extensions~=3.7.4 in /Users/ruihao/opt/anaconda3/lib/python3.8/site-packages (from tensorflow>=2.0.0->turicreate) (3.7.4.3)\n",
      "Collecting tensorflow-estimator<2.5.0,>=2.4.0\n",
      "  Downloading tensorflow_estimator-2.4.0-py2.py3-none-any.whl (462 kB)\n",
      "Collecting tensorboard~=2.4\n",
      "  Downloading tensorboard-2.4.1-py3-none-any.whl (10.6 MB)\n",
      "Collecting termcolor~=1.1.0\n",
      "  Downloading termcolor-1.1.0.tar.gz (3.9 kB)\n",
      "Collecting gast==0.3.3\n",
      "  Downloading gast-0.3.3-py2.py3-none-any.whl (9.7 kB)\n",
      "Collecting absl-py~=0.10\n",
      "  Downloading absl_py-0.11.0-py3-none-any.whl (127 kB)\n",
      "Collecting astunparse~=1.6.3\n",
      "  Downloading astunparse-1.6.3-py2.py3-none-any.whl (12 kB)\n",
      "Requirement already satisfied: h5py~=2.10.0 in /Users/ruihao/opt/anaconda3/lib/python3.8/site-packages (from tensorflow>=2.0.0->turicreate) (2.10.0)\n",
      "Collecting protobuf>=3.9.2\n",
      "  Downloading protobuf-3.15.5-cp38-cp38-macosx_10_9_x86_64.whl (1.0 MB)\n",
      "Requirement already satisfied: wheel~=0.35 in /Users/ruihao/opt/anaconda3/lib/python3.8/site-packages (from tensorflow>=2.0.0->turicreate) (0.35.1)\n",
      "Collecting flatbuffers~=1.12.0\n",
      "  Downloading flatbuffers-1.12-py2.py3-none-any.whl (15 kB)\n",
      "Collecting grpcio~=1.32.0\n",
      "  Downloading grpcio-1.32.0-cp38-cp38-macosx_10_9_x86_64.whl (3.3 MB)\n",
      "Collecting opt-einsum~=3.3.0\n",
      "  Downloading opt_einsum-3.3.0-py3-none-any.whl (65 kB)\n",
      "Collecting google-pasta~=0.2\n",
      "  Downloading google_pasta-0.2.0-py3-none-any.whl (57 kB)\n",
      "Collecting keras-preprocessing~=1.1.2\n",
      "  Downloading Keras_Preprocessing-1.1.2-py2.py3-none-any.whl (42 kB)\n",
      "Requirement already satisfied: sympy in /Users/ruihao/opt/anaconda3/lib/python3.8/site-packages (from coremltools==4.0b3->turicreate) (1.6.2)\n",
      "Requirement already satisfied: attrs in /Users/ruihao/opt/anaconda3/lib/python3.8/site-packages (from coremltools==4.0b3->turicreate) (20.3.0)\n",
      "Requirement already satisfied: tqdm in /Users/ruihao/opt/anaconda3/lib/python3.8/site-packages (from coremltools==4.0b3->turicreate) (4.50.2)\n",
      "Collecting attr\n",
      "  Downloading attr-0.3.1.tar.gz (1.7 kB)\n",
      "Requirement already satisfied: llvmlite<0.35,>=0.34.0.dev0 in /Users/ruihao/opt/anaconda3/lib/python3.8/site-packages (from numba>=0.32->resampy==0.2.1->turicreate) (0.34.0)\n",
      "Requirement already satisfied: setuptools in /Users/ruihao/opt/anaconda3/lib/python3.8/site-packages (from numba>=0.32->resampy==0.2.1->turicreate) (50.3.1.post20201107)\n",
      "Requirement already satisfied: werkzeug>=0.11.15 in /Users/ruihao/opt/anaconda3/lib/python3.8/site-packages (from tensorboard~=2.4->tensorflow>=2.0.0->turicreate) (1.0.1)\n",
      "Collecting google-auth<2,>=1.6.3\n",
      "  Downloading google_auth-1.27.1-py2.py3-none-any.whl (136 kB)\n",
      "Collecting google-auth-oauthlib<0.5,>=0.4.1\n",
      "  Downloading google_auth_oauthlib-0.4.3-py2.py3-none-any.whl (18 kB)\n",
      "Collecting tensorboard-plugin-wit>=1.6.0\n",
      "  Downloading tensorboard_plugin_wit-1.8.0-py3-none-any.whl (781 kB)\n",
      "Collecting markdown>=2.6.8\n",
      "  Downloading Markdown-3.3.4-py3-none-any.whl (97 kB)\n",
      "Requirement already satisfied: mpmath>=0.19 in /Users/ruihao/opt/anaconda3/lib/python3.8/site-packages (from sympy->coremltools==4.0b3->turicreate) (1.1.0)\n",
      "Collecting pyasn1-modules>=0.2.1\n",
      "  Downloading pyasn1_modules-0.2.8-py2.py3-none-any.whl (155 kB)\n",
      "Collecting cachetools<5.0,>=2.0.0\n",
      "  Downloading cachetools-4.2.1-py3-none-any.whl (12 kB)\n",
      "Collecting rsa<5,>=3.1.4; python_version >= \"3.6\"\n",
      "  Downloading rsa-4.7.2-py3-none-any.whl (34 kB)\n",
      "Collecting requests-oauthlib>=0.7.0\n",
      "  Downloading requests_oauthlib-1.3.0-py2.py3-none-any.whl (23 kB)\n",
      "Collecting pyasn1<0.5.0,>=0.4.6\n",
      "  Downloading pyasn1-0.4.8-py2.py3-none-any.whl (77 kB)\n",
      "Collecting oauthlib>=3.0.0\n",
      "  Downloading oauthlib-3.1.0-py2.py3-none-any.whl (147 kB)\n",
      "Building wheels for collected packages: resampy, prettytable, wrapt, termcolor, attr\n",
      "  Building wheel for resampy (setup.py): started\n",
      "  Building wheel for resampy (setup.py): finished with status 'done'\n",
      "  Created wheel for resampy: filename=resampy-0.2.1-py3-none-any.whl size=320847 sha256=994626175fb626bbf5ab5fb74a7f7ef19953145523d45b01759eeb84e19c5982\n",
      "  Stored in directory: /Users/ruihao/Library/Caches/pip/wheels/2b/a9/15/89e0e4544c36f50e4e8d54d546f2331c461f505d3b55d3f358\n",
      "  Building wheel for prettytable (setup.py): started\n",
      "  Building wheel for prettytable (setup.py): finished with status 'done'\n",
      "  Created wheel for prettytable: filename=prettytable-0.7.2-py3-none-any.whl size=13700 sha256=a5de20fc1609a00336226d9ee7c001b9c1f7e4e7a14bb461c114d2df6df9a151\n",
      "  Stored in directory: /Users/ruihao/Library/Caches/pip/wheels/46/60/6c/bb25d05df22906786206e901e9354bb3061061191116768bee\n",
      "  Building wheel for wrapt (setup.py): started\n",
      "  Building wheel for wrapt (setup.py): finished with status 'done'\n",
      "  Created wheel for wrapt: filename=wrapt-1.12.1-py3-none-any.whl size=19552 sha256=b7bd2729ff99e09510ee8679e625052a601c4710fa79dce1141c63c7a098edce\n",
      "  Stored in directory: /Users/ruihao/Library/Caches/pip/wheels/5f/fd/9e/b6cf5890494cb8ef0b5eaff72e5d55a70fb56316007d6dfe73\n",
      "  Building wheel for termcolor (setup.py): started\n",
      "  Building wheel for termcolor (setup.py): finished with status 'done'\n",
      "  Created wheel for termcolor: filename=termcolor-1.1.0-py3-none-any.whl size=4830 sha256=adb01ecb749f01875bf3a8613009780da45fc13b6e74327a843770b29603eeca\n",
      "  Stored in directory: /Users/ruihao/Library/Caches/pip/wheels/a0/16/9c/5473df82468f958445479c59e784896fa24f4a5fc024b0f501\n",
      "  Building wheel for attr (setup.py): started\n",
      "  Building wheel for attr (setup.py): finished with status 'done'\n",
      "  Created wheel for attr: filename=attr-0.3.1-py3-none-any.whl size=2458 sha256=7a1ee5557c34e36d78c9840a781ed2e90be360f137ef43f092b31dd79dc5b366\n"
     ]
    },
    {
     "name": "stdout",
     "output_type": "stream",
     "text": [
      "  Stored in directory: /Users/ruihao/Library/Caches/pip/wheels/47/53/81/061bfd275ab8eb923cfe874f1f6cbe1e607092df09d606c982\n",
      "Successfully built resampy prettytable wrapt termcolor attr\n",
      "Installing collected packages: resampy, wrapt, tensorflow-estimator, grpcio, pyasn1, pyasn1-modules, cachetools, rsa, google-auth, oauthlib, requests-oauthlib, google-auth-oauthlib, tensorboard-plugin-wit, protobuf, markdown, absl-py, tensorboard, termcolor, gast, astunparse, flatbuffers, opt-einsum, google-pasta, keras-preprocessing, tensorflow, prettytable, attr, coremltools, turicreate\n",
      "  Attempting uninstall: wrapt\n",
      "    Found existing installation: wrapt 1.11.2\n",
      "    Uninstalling wrapt-1.11.2:\n",
      "      Successfully uninstalled wrapt-1.11.2\n"
     ]
    }
   ],
   "source": [
    "import pip\n",
    "pip.main(['install', 'turicreate'])"
   ]
  },
  {
   "cell_type": "markdown",
   "metadata": {},
   "source": [
    "# Getting started with Python"
   ]
  },
  {
   "cell_type": "code",
   "execution_count": null,
   "metadata": {},
   "outputs": [],
   "source": [
    "print('Hello World!')"
   ]
  },
  {
   "cell_type": "markdown",
   "metadata": {},
   "source": [
    "## Create some variables in Python"
   ]
  },
  {
   "cell_type": "code",
   "execution_count": 1,
   "metadata": {},
   "outputs": [],
   "source": [
    "i = 4  #int"
   ]
  },
  {
   "cell_type": "code",
   "execution_count": 2,
   "metadata": {},
   "outputs": [
    {
     "data": {
      "text/plain": [
       "int"
      ]
     },
     "execution_count": 2,
     "metadata": {},
     "output_type": "execute_result"
    }
   ],
   "source": [
    "type(i)"
   ]
  },
  {
   "cell_type": "code",
   "execution_count": 3,
   "metadata": {},
   "outputs": [],
   "source": [
    "f = 4.1  #float"
   ]
  },
  {
   "cell_type": "code",
   "execution_count": 4,
   "metadata": {},
   "outputs": [
    {
     "data": {
      "text/plain": [
       "float"
      ]
     },
     "execution_count": 4,
     "metadata": {},
     "output_type": "execute_result"
    }
   ],
   "source": [
    "type(f)"
   ]
  },
  {
   "cell_type": "code",
   "execution_count": 5,
   "metadata": {},
   "outputs": [],
   "source": [
    "b = True  #boolean variable"
   ]
  },
  {
   "cell_type": "code",
   "execution_count": 6,
   "metadata": {},
   "outputs": [],
   "source": [
    "s = \"This is a string!\""
   ]
  },
  {
   "cell_type": "code",
   "execution_count": 7,
   "metadata": {},
   "outputs": [
    {
     "name": "stdout",
     "output_type": "stream",
     "text": [
      "This is a string!\n"
     ]
    }
   ],
   "source": [
    "print(s)"
   ]
  },
  {
   "cell_type": "markdown",
   "metadata": {},
   "source": [
    "## Advanced python types"
   ]
  },
  {
   "cell_type": "code",
   "execution_count": 8,
   "metadata": {},
   "outputs": [],
   "source": [
    "l = [3,1,2]  #list"
   ]
  },
  {
   "cell_type": "code",
   "execution_count": 9,
   "metadata": {},
   "outputs": [
    {
     "name": "stdout",
     "output_type": "stream",
     "text": [
      "[3, 1, 2]\n"
     ]
    }
   ],
   "source": [
    "print(l)"
   ]
  },
  {
   "cell_type": "code",
   "execution_count": 10,
   "metadata": {},
   "outputs": [],
   "source": [
    "d = {'foo':1, 'bar':2.3, 's':'my first dictionary'}  #dictionary"
   ]
  },
  {
   "cell_type": "code",
   "execution_count": 11,
   "metadata": {},
   "outputs": [
    {
     "name": "stdout",
     "output_type": "stream",
     "text": [
      "{'foo': 1, 'bar': 2.3, 's': 'my first dictionary'}\n"
     ]
    }
   ],
   "source": [
    "print(d)"
   ]
  },
  {
   "cell_type": "code",
   "execution_count": 12,
   "metadata": {},
   "outputs": [
    {
     "name": "stdout",
     "output_type": "stream",
     "text": [
      "1\n"
     ]
    }
   ],
   "source": [
    "print(d['foo'])  #element of a dictionary"
   ]
  },
  {
   "cell_type": "code",
   "execution_count": 14,
   "metadata": {},
   "outputs": [
    {
     "name": "stdout",
     "output_type": "stream",
     "text": [
      "my first dictionary\n"
     ]
    }
   ],
   "source": [
    "print(d['s'])"
   ]
  },
  {
   "cell_type": "code",
   "execution_count": 15,
   "metadata": {},
   "outputs": [],
   "source": [
    "n = None  #Python's null type"
   ]
  },
  {
   "cell_type": "code",
   "execution_count": 16,
   "metadata": {},
   "outputs": [
    {
     "data": {
      "text/plain": [
       "NoneType"
      ]
     },
     "execution_count": 16,
     "metadata": {},
     "output_type": "execute_result"
    }
   ],
   "source": [
    "type(n)"
   ]
  },
  {
   "cell_type": "markdown",
   "metadata": {},
   "source": [
    "## Advanced printing"
   ]
  },
  {
   "cell_type": "code",
   "execution_count": 17,
   "metadata": {},
   "outputs": [
    {
     "name": "stdout",
     "output_type": "stream",
     "text": [
      "Our float value is 4.1. Our int value is 4.\n"
     ]
    }
   ],
   "source": [
    "print(\"Our float value is %s. Our int value is %s.\" % (f,i))  #Python is pretty good with strings"
   ]
  },
  {
   "cell_type": "markdown",
   "metadata": {},
   "source": [
    "## Conditional statements in python"
   ]
  },
  {
   "cell_type": "code",
   "execution_count": null,
   "metadata": {},
   "outputs": [],
   "source": [
    "if i == 1 and f > 4:\n",
    "    print(\"The value of i is 1 and f is greater than 4.\")\n",
    "elif i > 4 or f > 4:\n",
    "    print(\"i or f are both greater than 4.\")\n",
    "else:\n",
    "    print(\"both i and f are less than or equal to 4\")\n"
   ]
  },
  {
   "cell_type": "markdown",
   "metadata": {},
   "source": [
    "## Conditional loops"
   ]
  },
  {
   "cell_type": "code",
   "execution_count": null,
   "metadata": {},
   "outputs": [],
   "source": [
    "print(l)"
   ]
  },
  {
   "cell_type": "code",
   "execution_count": null,
   "metadata": {},
   "outputs": [],
   "source": [
    "for e in l:\n",
    "    print(e)"
   ]
  },
  {
   "cell_type": "markdown",
   "metadata": {},
   "source": [
    "Note that in Python, we don't use {} or other markers to indicate the part of the loop that gets iterated.  Instead, we just indent and align each of the iterated statements with spaces or tabs. (You can use as many as you want, as long as the lines are aligned.)"
   ]
  },
  {
   "cell_type": "code",
   "execution_count": null,
   "metadata": {},
   "outputs": [],
   "source": [
    "counter = 6\n",
    "while counter < 10:\n",
    "    print(counter)\n",
    "    counter += 1"
   ]
  },
  {
   "cell_type": "markdown",
   "metadata": {
    "collapsed": true
   },
   "source": [
    "# Creating functions in Python\n",
    "\n",
    "Again, we don't use {}, but just indent the lines that are part of the function."
   ]
  },
  {
   "cell_type": "code",
   "execution_count": null,
   "metadata": {},
   "outputs": [],
   "source": [
    "def add2(x):\n",
    "    y = x + 2\n",
    "    return y"
   ]
  },
  {
   "cell_type": "code",
   "execution_count": null,
   "metadata": {},
   "outputs": [],
   "source": [
    "i = 5"
   ]
  },
  {
   "cell_type": "code",
   "execution_count": null,
   "metadata": {},
   "outputs": [],
   "source": [
    "add2(i)"
   ]
  },
  {
   "cell_type": "markdown",
   "metadata": {},
   "source": [
    "We can also define simple functions with lambdas:"
   ]
  },
  {
   "cell_type": "code",
   "execution_count": null,
   "metadata": {},
   "outputs": [],
   "source": [
    "square = lambda x: x*x"
   ]
  },
  {
   "cell_type": "code",
   "execution_count": null,
   "metadata": {},
   "outputs": [],
   "source": []
  }
 ],
 "metadata": {
  "kernelspec": {
   "display_name": "Python 3",
   "language": "python",
   "name": "python3"
  },
  "language_info": {
   "codemirror_mode": {
    "name": "ipython",
    "version": 3
   },
   "file_extension": ".py",
   "mimetype": "text/x-python",
   "name": "python",
   "nbconvert_exporter": "python",
   "pygments_lexer": "ipython3",
   "version": "3.8.5"
  }
 },
 "nbformat": 4,
 "nbformat_minor": 1
}
