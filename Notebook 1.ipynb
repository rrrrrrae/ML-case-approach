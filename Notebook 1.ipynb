{
 "cells": [
  {
   "cell_type": "markdown",
   "metadata": {},
   "source": [
    "# Python Basics"
   ]
  },
  {
   "cell_type": "code",
   "execution_count": 2,
   "metadata": {},
   "outputs": [
    {
     "name": "stdout",
     "output_type": "stream",
     "text": [
      "hey\n"
     ]
    }
   ],
   "source": [
    "print ('hey') ## don't forget parenthesis"
   ]
  },
  {
   "cell_type": "markdown",
   "metadata": {},
   "source": [
    "## this is a heading\n",
    "\n",
    "* select the code cell, press \"esc + m \",and it will be a markdown cell. moreover, from markdown cell to code cell, press \" esc + y \".\n",
    "\n",
    "* use stars to make a list \n",
    "\n",
    "## creating a variable"
   ]
  },
  {
   "cell_type": "code",
   "execution_count": 29,
   "metadata": {},
   "outputs": [],
   "source": [
    "i = 4"
   ]
  },
  {
   "cell_type": "code",
   "execution_count": 5,
   "metadata": {},
   "outputs": [
    {
     "data": {
      "text/plain": [
       "int"
      ]
     },
     "execution_count": 5,
     "metadata": {},
     "output_type": "execute_result"
    }
   ],
   "source": [
    "type(i)"
   ]
  },
  {
   "cell_type": "code",
   "execution_count": 7,
   "metadata": {},
   "outputs": [
    {
     "data": {
      "text/plain": [
       "float"
      ]
     },
     "execution_count": 7,
     "metadata": {},
     "output_type": "execute_result"
    }
   ],
   "source": [
    "b = 21.4\n",
    "type(b)"
   ]
  },
  {
   "cell_type": "code",
   "execution_count": 8,
   "metadata": {},
   "outputs": [],
   "source": [
    "s = \"string!\""
   ]
  },
  {
   "cell_type": "markdown",
   "metadata": {},
   "source": [
    "# Advanced types"
   ]
  },
  {
   "cell_type": "code",
   "execution_count": 28,
   "metadata": {},
   "outputs": [],
   "source": [
    "ii = [1,2,3]"
   ]
  },
  {
   "cell_type": "code",
   "execution_count": 13,
   "metadata": {},
   "outputs": [],
   "source": [
    "d = {'apples': 5, 'banans': 2, 'string': \"hey\"}"
   ]
  },
  {
   "cell_type": "markdown",
   "metadata": {},
   "source": [
    "## Advanced printing"
   ]
  },
  {
   "cell_type": "code",
   "execution_count": 30,
   "metadata": {},
   "outputs": [
    {
     "name": "stdout",
     "output_type": "stream",
     "text": [
      "float value is 21.4. Int value is 4.\n"
     ]
    }
   ],
   "source": [
    "print (\"float value is %s. Int value is %s.\" %(b,i))"
   ]
  },
  {
   "cell_type": "markdown",
   "metadata": {},
   "source": [
    "## Conditional Statements\n",
    "\n",
    "### if statemtns "
   ]
  },
  {
   "cell_type": "code",
   "execution_count": 37,
   "metadata": {},
   "outputs": [
    {
     "name": "stdout",
     "output_type": "stream",
     "text": [
      "ha\n"
     ]
    }
   ],
   "source": [
    "if b == 1 and i > 0: ## don't forget the columns\n",
    "    print(\"the value is 5.\" )\n",
    "elif i <0:\n",
    "          print(\"uh ohh\")\n",
    "else: ## no conditions here otherwise you'll need a new else statement\n",
    "        print(\"ha\")"
   ]
  },
  {
   "cell_type": "markdown",
   "metadata": {},
   "source": [
    "### loops"
   ]
  },
  {
   "cell_type": "code",
   "execution_count": 38,
   "metadata": {},
   "outputs": [],
   "source": [
    "l = [1,2,3]"
   ]
  },
  {
   "cell_type": "code",
   "execution_count": 41,
   "metadata": {},
   "outputs": [
    {
     "name": "stdout",
     "output_type": "stream",
     "text": [
      "1\n",
      "2\n",
      "3\n"
     ]
    }
   ],
   "source": [
    "for element in l:\n",
    "    print (element)"
   ]
  },
  {
   "cell_type": "code",
   "execution_count": 43,
   "metadata": {},
   "outputs": [
    {
     "name": "stdout",
     "output_type": "stream",
     "text": [
      "0\n",
      "1\n",
      "2\n",
      "3\n",
      "4\n",
      "5\n",
      "6\n",
      "7\n",
      "8\n",
      "9\n"
     ]
    }
   ],
   "source": [
    "counter = 0 #need to initation couter \n",
    "while counter < 10: \n",
    "    print(counter)\n",
    "    counter += 1\n"
   ]
  },
  {
   "cell_type": "markdown",
   "metadata": {},
   "source": [
    "## Creating a function lambdas "
   ]
  },
  {
   "cell_type": "code",
   "execution_count": 44,
   "metadata": {},
   "outputs": [],
   "source": [
    "def add2(x): \n",
    "    x += 2\n",
    "    return x"
   ]
  },
  {
   "cell_type": "code",
   "execution_count": 45,
   "metadata": {},
   "outputs": [
    {
     "name": "stdout",
     "output_type": "stream",
     "text": [
      "5\n"
     ]
    }
   ],
   "source": [
    "print(add2(3)) ## print (3.add2(x))?"
   ]
  },
  {
   "cell_type": "markdown",
   "metadata": {},
   "source": [
    "using lambda to define: \n",
    "(question: difference from the first approach?)"
   ]
  },
  {
   "cell_type": "code",
   "execution_count": 48,
   "metadata": {},
   "outputs": [],
   "source": [
    "square = lambda x: x*x ## inputs an x and returns an x"
   ]
  },
  {
   "cell_type": "markdown",
   "metadata": {},
   "source": [
    "# SFrames"
   ]
  },
  {
   "cell_type": "code",
   "execution_count": null,
   "metadata": {},
   "outputs": [],
   "source": []
  },
  {
   "cell_type": "markdown",
   "metadata": {},
   "source": [
    "getting a virtual environment"
   ]
  },
  {
   "cell_type": "code",
   "execution_count": 50,
   "metadata": {},
   "outputs": [
    {
     "name": "stdout",
     "output_type": "stream",
     "text": [
      "Collecting virtualenv\n",
      "  Downloading virtualenv-20.4.2-py2.py3-none-any.whl (7.2 MB)\n",
      "\u001b[K     |████████████████████████████████| 7.2 MB 5.4 MB/s eta 0:00:01\n",
      "\u001b[?25hCollecting distlib<1,>=0.3.1\n",
      "  Downloading distlib-0.3.1-py2.py3-none-any.whl (335 kB)\n",
      "\u001b[K     |████████████████████████████████| 335 kB 11.9 MB/s eta 0:00:01\n",
      "\u001b[?25hCollecting appdirs<2,>=1.4.3\n",
      "  Downloading appdirs-1.4.4-py2.py3-none-any.whl (9.6 kB)\n",
      "Requirement already satisfied: six<2,>=1.9.0 in /Users/ruihao/opt/anaconda3/lib/python3.8/site-packages (from virtualenv) (1.15.0)\n",
      "Requirement already satisfied: filelock<4,>=3.0.0 in /Users/ruihao/opt/anaconda3/lib/python3.8/site-packages (from virtualenv) (3.0.12)\n",
      "Installing collected packages: distlib, appdirs, virtualenv\n",
      "Successfully installed appdirs-1.4.4 distlib-0.3.1 virtualenv-20.4.2\n",
      "Note: you may need to restart the kernel to use updated packages.\n"
     ]
    }
   ],
   "source": [
    "pip install virtualenv ## overlap with conda environment"
   ]
  },
  {
   "cell_type": "code",
   "execution_count": 3,
   "metadata": {
    "scrolled": true
   },
   "outputs": [
    {
     "name": "stdout",
     "output_type": "stream",
     "text": [
      "Collecting package metadata (current_repodata.json): done\n",
      "Solving environment: failed with repodata from current_repodata.json, will retry with next repodata source.\n",
      "Collecting package metadata (repodata.json): done\n",
      "Solving environment: failed\n",
      "\n",
      "PackagesNotFoundError: The following packages are not available from current channels:\n",
      "\n",
      "  - yes\n",
      "\n",
      "Current channels:\n",
      "\n",
      "  - https://repo.anaconda.com/pkgs/main/osx-64\n",
      "  - https://repo.anaconda.com/pkgs/main/noarch\n",
      "  - https://repo.anaconda.com/pkgs/r/osx-64\n",
      "  - https://repo.anaconda.com/pkgs/r/noarch\n",
      "\n",
      "To search for alternate channels that may provide the conda package you're\n",
      "looking for, navigate to\n",
      "\n",
      "    https://anaconda.org\n",
      "\n",
      "and use the search bar at the top of the page.\n",
      "\n",
      "\n",
      "\n",
      "Note: you may need to restart the kernel to use updated packages.\n"
     ]
    }
   ],
   "source": [
    "conda create -n jupyter111 anaconda yes"
   ]
  },
  {
   "cell_type": "code",
   "execution_count": 4,
   "metadata": {},
   "outputs": [
    {
     "name": "stdout",
     "output_type": "stream",
     "text": [
      "\n",
      "CommandNotFoundError: Your shell has not been properly configured to use 'conda activate'.\n",
      "To initialize your shell, run\n",
      "\n",
      "    $ conda init <SHELL_NAME>\n",
      "\n",
      "Currently supported shells are:\n",
      "  - bash\n",
      "  - fish\n",
      "  - tcsh\n",
      "  - xonsh\n",
      "  - zsh\n",
      "  - powershell\n",
      "\n",
      "See 'conda init --help' for more information and options.\n",
      "\n",
      "IMPORTANT: You may need to close and restart your shell after running 'conda init'.\n",
      "\n",
      "\n",
      "\n",
      "Note: you may need to restart the kernel to use updated packages.\n"
     ]
    }
   ],
   "source": [
    "conda activate jupyter111 "
   ]
  },
  {
   "cell_type": "markdown",
   "metadata": {},
   "source": [
    "Copy the code line from the website:"
   ]
  },
  {
   "cell_type": "code",
   "execution_count": 67,
   "metadata": {},
   "outputs": [
    {
     "name": "stdout",
     "output_type": "stream",
     "text": [
      "Requirement already up-to-date: turicreate in /Users/ruihao/opt/anaconda3/lib/python3.8/site-packages (6.4.1)\n",
      "Requirement already satisfied, skipping upgrade: resampy==0.2.1 in /Users/ruihao/opt/anaconda3/lib/python3.8/site-packages (from turicreate) (0.2.1)\n",
      "Requirement already satisfied, skipping upgrade: prettytable==0.7.2 in /Users/ruihao/opt/anaconda3/lib/python3.8/site-packages (from turicreate) (0.7.2)\n",
      "Requirement already satisfied, skipping upgrade: pillow>=5.2.0 in /Users/ruihao/opt/anaconda3/lib/python3.8/site-packages (from turicreate) (8.0.1)\n",
      "Requirement already satisfied, skipping upgrade: six>=1.10.0 in /Users/ruihao/opt/anaconda3/lib/python3.8/site-packages (from turicreate) (1.15.0)\n",
      "Requirement already satisfied, skipping upgrade: pandas>=0.23.2 in /Users/ruihao/opt/anaconda3/lib/python3.8/site-packages (from turicreate) (1.1.3)\n",
      "Requirement already satisfied, skipping upgrade: numpy in /Users/ruihao/opt/anaconda3/lib/python3.8/site-packages (from turicreate) (1.19.2)\n",
      "Requirement already satisfied, skipping upgrade: scipy>=1.1.0 in /Users/ruihao/opt/anaconda3/lib/python3.8/site-packages (from turicreate) (1.5.2)\n",
      "Requirement already satisfied, skipping upgrade: tensorflow>=2.0.0 in /Users/ruihao/opt/anaconda3/lib/python3.8/site-packages (from turicreate) (2.4.1)\n",
      "Requirement already satisfied, skipping upgrade: decorator>=4.0.9 in /Users/ruihao/opt/anaconda3/lib/python3.8/site-packages (from turicreate) (4.4.2)\n",
      "Requirement already satisfied, skipping upgrade: requests>=2.9.1 in /Users/ruihao/opt/anaconda3/lib/python3.8/site-packages (from turicreate) (2.24.0)\n",
      "Requirement already satisfied, skipping upgrade: coremltools==4.0b3 in /Users/ruihao/opt/anaconda3/lib/python3.8/site-packages (from turicreate) (4.0b3)\n",
      "Requirement already satisfied, skipping upgrade: numba>=0.32 in /Users/ruihao/opt/anaconda3/lib/python3.8/site-packages (from resampy==0.2.1->turicreate) (0.51.2)\n",
      "Requirement already satisfied, skipping upgrade: pytz>=2017.2 in /Users/ruihao/opt/anaconda3/lib/python3.8/site-packages (from pandas>=0.23.2->turicreate) (2020.1)\n",
      "Requirement already satisfied, skipping upgrade: python-dateutil>=2.7.3 in /Users/ruihao/opt/anaconda3/lib/python3.8/site-packages (from pandas>=0.23.2->turicreate) (2.8.1)\n",
      "Requirement already satisfied, skipping upgrade: absl-py~=0.10 in /Users/ruihao/opt/anaconda3/lib/python3.8/site-packages (from tensorflow>=2.0.0->turicreate) (0.11.0)\n",
      "Requirement already satisfied, skipping upgrade: termcolor~=1.1.0 in /Users/ruihao/opt/anaconda3/lib/python3.8/site-packages (from tensorflow>=2.0.0->turicreate) (1.1.0)\n",
      "Requirement already satisfied, skipping upgrade: wrapt~=1.12.1 in /Users/ruihao/opt/anaconda3/lib/python3.8/site-packages (from tensorflow>=2.0.0->turicreate) (1.12.1)\n",
      "Requirement already satisfied, skipping upgrade: gast==0.3.3 in /Users/ruihao/opt/anaconda3/lib/python3.8/site-packages (from tensorflow>=2.0.0->turicreate) (0.3.3)\n",
      "Requirement already satisfied, skipping upgrade: tensorboard~=2.4 in /Users/ruihao/opt/anaconda3/lib/python3.8/site-packages (from tensorflow>=2.0.0->turicreate) (2.4.1)\n",
      "Requirement already satisfied, skipping upgrade: typing-extensions~=3.7.4 in /Users/ruihao/opt/anaconda3/lib/python3.8/site-packages (from tensorflow>=2.0.0->turicreate) (3.7.4.3)\n",
      "Requirement already satisfied, skipping upgrade: keras-preprocessing~=1.1.2 in /Users/ruihao/opt/anaconda3/lib/python3.8/site-packages (from tensorflow>=2.0.0->turicreate) (1.1.2)\n",
      "Requirement already satisfied, skipping upgrade: tensorflow-estimator<2.5.0,>=2.4.0 in /Users/ruihao/opt/anaconda3/lib/python3.8/site-packages (from tensorflow>=2.0.0->turicreate) (2.4.0)\n",
      "Requirement already satisfied, skipping upgrade: opt-einsum~=3.3.0 in /Users/ruihao/opt/anaconda3/lib/python3.8/site-packages (from tensorflow>=2.0.0->turicreate) (3.3.0)\n",
      "Requirement already satisfied, skipping upgrade: flatbuffers~=1.12.0 in /Users/ruihao/opt/anaconda3/lib/python3.8/site-packages (from tensorflow>=2.0.0->turicreate) (1.12)\n",
      "Requirement already satisfied, skipping upgrade: h5py~=2.10.0 in /Users/ruihao/opt/anaconda3/lib/python3.8/site-packages (from tensorflow>=2.0.0->turicreate) (2.10.0)\n",
      "Requirement already satisfied, skipping upgrade: protobuf>=3.9.2 in /Users/ruihao/opt/anaconda3/lib/python3.8/site-packages (from tensorflow>=2.0.0->turicreate) (3.15.5)\n",
      "Requirement already satisfied, skipping upgrade: wheel~=0.35 in /Users/ruihao/opt/anaconda3/lib/python3.8/site-packages (from tensorflow>=2.0.0->turicreate) (0.35.1)\n",
      "Requirement already satisfied, skipping upgrade: grpcio~=1.32.0 in /Users/ruihao/opt/anaconda3/lib/python3.8/site-packages (from tensorflow>=2.0.0->turicreate) (1.32.0)\n",
      "Requirement already satisfied, skipping upgrade: google-pasta~=0.2 in /Users/ruihao/opt/anaconda3/lib/python3.8/site-packages (from tensorflow>=2.0.0->turicreate) (0.2.0)\n",
      "Requirement already satisfied, skipping upgrade: astunparse~=1.6.3 in /Users/ruihao/opt/anaconda3/lib/python3.8/site-packages (from tensorflow>=2.0.0->turicreate) (1.6.3)\n",
      "Requirement already satisfied, skipping upgrade: idna<3,>=2.5 in /Users/ruihao/opt/anaconda3/lib/python3.8/site-packages (from requests>=2.9.1->turicreate) (2.10)\n",
      "Requirement already satisfied, skipping upgrade: urllib3!=1.25.0,!=1.25.1,<1.26,>=1.21.1 in /Users/ruihao/opt/anaconda3/lib/python3.8/site-packages (from requests>=2.9.1->turicreate) (1.25.11)\n",
      "Requirement already satisfied, skipping upgrade: certifi>=2017.4.17 in /Users/ruihao/opt/anaconda3/lib/python3.8/site-packages (from requests>=2.9.1->turicreate) (2020.6.20)\n",
      "Requirement already satisfied, skipping upgrade: chardet<4,>=3.0.2 in /Users/ruihao/opt/anaconda3/lib/python3.8/site-packages (from requests>=2.9.1->turicreate) (3.0.4)\n",
      "Requirement already satisfied, skipping upgrade: tqdm in /Users/ruihao/opt/anaconda3/lib/python3.8/site-packages (from coremltools==4.0b3->turicreate) (4.50.2)\n",
      "Requirement already satisfied, skipping upgrade: attr in /Users/ruihao/opt/anaconda3/lib/python3.8/site-packages (from coremltools==4.0b3->turicreate) (0.3.1)\n",
      "Requirement already satisfied, skipping upgrade: sympy in /Users/ruihao/opt/anaconda3/lib/python3.8/site-packages (from coremltools==4.0b3->turicreate) (1.6.2)\n",
      "Requirement already satisfied, skipping upgrade: attrs in /Users/ruihao/opt/anaconda3/lib/python3.8/site-packages (from coremltools==4.0b3->turicreate) (20.3.0)\n",
      "Requirement already satisfied, skipping upgrade: llvmlite<0.35,>=0.34.0.dev0 in /Users/ruihao/opt/anaconda3/lib/python3.8/site-packages (from numba>=0.32->resampy==0.2.1->turicreate) (0.34.0)\n",
      "Requirement already satisfied, skipping upgrade: setuptools in /Users/ruihao/opt/anaconda3/lib/python3.8/site-packages (from numba>=0.32->resampy==0.2.1->turicreate) (50.3.1.post20201107)\n",
      "Requirement already satisfied, skipping upgrade: google-auth-oauthlib<0.5,>=0.4.1 in /Users/ruihao/opt/anaconda3/lib/python3.8/site-packages (from tensorboard~=2.4->tensorflow>=2.0.0->turicreate) (0.4.3)\n",
      "Requirement already satisfied, skipping upgrade: google-auth<2,>=1.6.3 in /Users/ruihao/opt/anaconda3/lib/python3.8/site-packages (from tensorboard~=2.4->tensorflow>=2.0.0->turicreate) (1.27.1)\n",
      "Requirement already satisfied, skipping upgrade: werkzeug>=0.11.15 in /Users/ruihao/opt/anaconda3/lib/python3.8/site-packages (from tensorboard~=2.4->tensorflow>=2.0.0->turicreate) (1.0.1)\n",
      "Requirement already satisfied, skipping upgrade: tensorboard-plugin-wit>=1.6.0 in /Users/ruihao/opt/anaconda3/lib/python3.8/site-packages (from tensorboard~=2.4->tensorflow>=2.0.0->turicreate) (1.8.0)\n",
      "Requirement already satisfied, skipping upgrade: markdown>=2.6.8 in /Users/ruihao/opt/anaconda3/lib/python3.8/site-packages (from tensorboard~=2.4->tensorflow>=2.0.0->turicreate) (3.3.4)\n",
      "Requirement already satisfied, skipping upgrade: mpmath>=0.19 in /Users/ruihao/opt/anaconda3/lib/python3.8/site-packages (from sympy->coremltools==4.0b3->turicreate) (1.1.0)\n",
      "Requirement already satisfied, skipping upgrade: requests-oauthlib>=0.7.0 in /Users/ruihao/opt/anaconda3/lib/python3.8/site-packages (from google-auth-oauthlib<0.5,>=0.4.1->tensorboard~=2.4->tensorflow>=2.0.0->turicreate) (1.3.0)\n",
      "Requirement already satisfied, skipping upgrade: pyasn1-modules>=0.2.1 in /Users/ruihao/opt/anaconda3/lib/python3.8/site-packages (from google-auth<2,>=1.6.3->tensorboard~=2.4->tensorflow>=2.0.0->turicreate) (0.2.8)\n",
      "Requirement already satisfied, skipping upgrade: cachetools<5.0,>=2.0.0 in /Users/ruihao/opt/anaconda3/lib/python3.8/site-packages (from google-auth<2,>=1.6.3->tensorboard~=2.4->tensorflow>=2.0.0->turicreate) (4.2.1)\n",
      "Requirement already satisfied, skipping upgrade: rsa<5,>=3.1.4; python_version >= \"3.6\" in /Users/ruihao/opt/anaconda3/lib/python3.8/site-packages (from google-auth<2,>=1.6.3->tensorboard~=2.4->tensorflow>=2.0.0->turicreate) (4.7.2)\n",
      "Requirement already satisfied, skipping upgrade: oauthlib>=3.0.0 in /Users/ruihao/opt/anaconda3/lib/python3.8/site-packages (from requests-oauthlib>=0.7.0->google-auth-oauthlib<0.5,>=0.4.1->tensorboard~=2.4->tensorflow>=2.0.0->turicreate) (3.1.0)\n",
      "Requirement already satisfied, skipping upgrade: pyasn1<0.5.0,>=0.4.6 in /Users/ruihao/opt/anaconda3/lib/python3.8/site-packages (from pyasn1-modules>=0.2.1->google-auth<2,>=1.6.3->tensorboard~=2.4->tensorflow>=2.0.0->turicreate) (0.4.8)\n"
     ]
    },
    {
     "name": "stdout",
     "output_type": "stream",
     "text": [
      "Note: you may need to restart the kernel to use updated packages.\n"
     ]
    }
   ],
   "source": [
    "pip install -U turicreate "
   ]
  },
  {
   "cell_type": "code",
   "execution_count": 6,
   "metadata": {},
   "outputs": [],
   "source": [
    "import turicreate"
   ]
  },
  {
   "cell_type": "code",
   "execution_count": null,
   "metadata": {},
   "outputs": [],
   "source": []
  }
 ],
 "metadata": {
  "kernelspec": {
   "display_name": "Python 3",
   "language": "python",
   "name": "python3"
  },
  "language_info": {
   "codemirror_mode": {
    "name": "ipython",
    "version": 3
   },
   "file_extension": ".py",
   "mimetype": "text/x-python",
   "name": "python",
   "nbconvert_exporter": "python",
   "pygments_lexer": "ipython3",
   "version": "3.8.5"
  }
 },
 "nbformat": 4,
 "nbformat_minor": 4
}
